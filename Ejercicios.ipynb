{
 "cells": [
  {
   "cell_type": "markdown",
   "metadata": {},
   "source": [
    "# Tarea 09"
   ]
  },
  {
   "cell_type": "markdown",
   "metadata": {},
   "source": [
    "### Kenneth Yar"
   ]
  },
  {
   "cell_type": "code",
   "execution_count": 82,
   "metadata": {},
   "outputs": [],
   "source": [
    "import numpy as np\n",
    "import matplotlib.pyplot as plt\n",
    "\n",
    "def eliminacionGaussiana(A, b):\n",
    "    n = len(b)\n",
    "    # Augmentar la matriz A con el vector b\n",
    "    Ab = np.hstack([A, b.reshape(-1, 1)])\n",
    "    intercambios = []\n",
    "\n",
    "    for i in range(n):\n",
    "        # Verificar que el pivote no sea cero\n",
    "        if np.isclose(Ab[i, i], 0):\n",
    "            for j in range(i+1, n):\n",
    "                if not np.isclose(Ab[j, i], 0):\n",
    "                    # Intercambiar filas\n",
    "                    Ab[[i, j]] = Ab[[j, i]]\n",
    "                    intercambios.append((i, j))\n",
    "                    break\n",
    "            else:\n",
    "                print(\"El sistema no tiene solución única\")\n",
    "                break        \n",
    "        # Normalizar el pivote\n",
    "        Ab[i] = Ab[i] / Ab[i, i]\n",
    "        \n",
    "        # Hacer ceros debajo del pivote\n",
    "        for j in range(i+1, n):\n",
    "            Ab[j] -= Ab[j, i] * Ab[i]\n",
    "    \n",
    "    print(\"Matriz escalonada:\")\n",
    "    print(Ab)\n",
    "    print(\"\\nIntercambios de fila realizados:\")\n",
    "    for intercambio in intercambios:\n",
    "        print(f\"Fila {intercambio[0]} intercambiada con Fila {intercambio[1]}\")\n",
    "\n",
    "    return Ab, intercambios\n",
    "    \n",
    "def sustitucionAtras(Ab):\n",
    "    n = len(Ab)\n",
    "    x = np.zeros(n)\n",
    "    \n",
    "    for i in range(n - 1, -1, -1):\n",
    "        x[i] = np.round((Ab[i, -1] - np.dot(Ab[i, i+1:n], x[i+1:])) / Ab[i, i],2)\n",
    "    \n",
    "    print(\"\\nSoluciones:\")\n",
    "    print(x)\n",
    "\n",
    "def GaussJordan(A):\n",
    "    n = A.shape[0]\n",
    "    \n",
    "    for i in range(n):\n",
    "        if A[i, i] == 0:\n",
    "            print(f\"Error: Pivote cero en la fila {i}, el sistema no tiene solución única.\")\n",
    "            return None\n",
    "        \n",
    "        A[i, :] = A[i, :] / A[i, i]\n",
    "        \n",
    "        for j in range(n):\n",
    "            if i != j:\n",
    "                factor = A[j, i]\n",
    "                A[j, :] = A[j, :] - factor * A[i, :]\n",
    "    \n",
    "    print(\"Matriz final:\")\n",
    "    print(A)\n",
    "    \n",
    "    print(\"Soluciones:\")\n",
    "    return A[:, -1]\n",
    "\n",
    "def metodográfico(y_vals):\n",
    "    x_vals = np.linspace(-10, 10, 400)\n",
    "    \n",
    "    # Crear el gráfico\n",
    "    plt.figure(figsize=(6, 6))\n",
    "    for yvals in y_vals:\n",
    "        plt.plot(x_vals, yvals, label=r'Ecuación ')\n",
    "\n",
    "    # Ajustar los límites del gráfico\n",
    "    plt.xlim(-10, 10)\n",
    "    plt.ylim(-10, 10)\n",
    "\n",
    "    # Etiquetas y título\n",
    "    plt.xlabel('x')\n",
    "    plt.ylabel('y')\n",
    "    plt.title('Sistema de ecuaciones lineales')\n",
    "\n",
    "    # Añadir leyenda\n",
    "    plt.legend()\n",
    "\n",
    "    # Mostrar el gráfico\n",
    "    plt.axhline(0, color='black',linewidth=1)\n",
    "    plt.axvline(0, color='black',linewidth=1)\n",
    "    plt.grid(True)\n",
    "    plt.show()"
   ]
  },
  {
   "cell_type": "markdown",
   "metadata": {},
   "source": [
    "### EJERCICIO 1"
   ]
  },
  {
   "cell_type": "code",
   "execution_count": 49,
   "metadata": {},
   "outputs": [],
   "source": [
    "x_vals = np.linspace(-10, 10, 400)"
   ]
  },
  {
   "cell_type": "markdown",
   "metadata": {},
   "source": [
    "##### Literal a"
   ]
  },
  {
   "cell_type": "code",
   "execution_count": null,
   "metadata": {},
   "outputs": [],
   "source": [
    "y_vals_1 = 2 * x_vals \n",
    "y_vals_2 = x_vals\n",
    "y_vals=[y_vals_1,y_vals_2]\n",
    "metodográfico(y_vals)"
   ]
  },
  {
   "cell_type": "markdown",
   "metadata": {},
   "source": [
    "Las rectas se cortan en el punto 0 así que esa es la respuesta"
   ]
  },
  {
   "cell_type": "markdown",
   "metadata": {},
   "source": [
    "##### Literal b"
   ]
  },
  {
   "cell_type": "code",
   "execution_count": null,
   "metadata": {},
   "outputs": [],
   "source": [
    "y_vals_1 = 3 - 2 * x_vals \n",
    "y_vals_2 = (6+4*x_vals)/-2\n",
    "y_vals=[y_vals_1,y_vals_2]\n",
    "metodográfico(y_vals)"
   ]
  },
  {
   "cell_type": "markdown",
   "metadata": {},
   "source": [
    "Las rectas son paralelas y no se topan por lo que no existe solución"
   ]
  },
  {
   "cell_type": "markdown",
   "metadata": {},
   "source": [
    "#### Literal c"
   ]
  },
  {
   "cell_type": "code",
   "execution_count": null,
   "metadata": {},
   "outputs": [],
   "source": [
    "y_vals_1 = (-1-x_vals)/2\n",
    "y_vals_2 = 2-x_vals\n",
    "y_vals_3=5+3*x_vals\n",
    "y_vals=[y_vals_1,y_vals_2,y_vals_3]\n",
    "metodográfico(y_vals)"
   ]
  },
  {
   "cell_type": "markdown",
   "metadata": {},
   "source": [
    "Ya que las 3 rectas no se topan en un solo punto el sistema no tiene solución"
   ]
  },
  {
   "cell_type": "markdown",
   "metadata": {},
   "source": [
    "#### Literal d"
   ]
  },
  {
   "cell_type": "code",
   "execution_count": null,
   "metadata": {},
   "outputs": [],
   "source": [
    "x_vals_2=np.linspace(-10, 10, 400)\n",
    "x2_d1 = np.linspace(-10, 10, 400)\n",
    "x_vals, x_vals_2 = np.meshgrid(x2_d1, x_vals_2)\n",
    "y_vals_1 = (1-x_vals-x_vals_2)/2\n",
    "y_vals_2 = (-1-4*x_vals+x_vals_2)/2\n",
    "y_vals=[y_vals_1,y_vals_2]\n",
    "\n",
    "fig = plt.figure(figsize=(12, 8))\n",
    "ax = fig.add_subplot(111, projection='3d')\n",
    "\n",
    "# Superficies\n",
    "ax.plot_surface(x_vals, x_vals_2, y_vals_1, alpha=0.7, rstride=100, cstride=100, color='blue', label=\"2x1 + x2 + x3 = 1\")\n",
    "ax.plot_surface(x_vals, x_vals_2, y_vals_2, alpha=0.7, rstride=100, cstride=100, color='red', label=\"2x1 + 4x2 - x3 = -1\")\n",
    "\n",
    "# Etiquetas\n",
    "ax.set_title(\"Sistema (d): Gráfica de las ecuaciones en 3D\")\n",
    "ax.set_xlabel(\"$x_2$\")\n",
    "ax.set_ylabel(\"$x_3$\")\n",
    "ax.set_zlabel(\"$x_1$\")\n",
    "plt.show()"
   ]
  },
  {
   "cell_type": "markdown",
   "metadata": {},
   "source": [
    "Ya que solo hay 2 ecuaciones pero 3 variables el sistema no tiene solución."
   ]
  },
  {
   "cell_type": "markdown",
   "metadata": {},
   "source": [
    "### EJERCICIO 2"
   ]
  },
  {
   "cell_type": "markdown",
   "metadata": {},
   "source": [
    "##### Literal a"
   ]
  },
  {
   "cell_type": "code",
   "execution_count": null,
   "metadata": {},
   "outputs": [],
   "source": [
    "A=np.array([[-1,4,1],[5/3,2/3,2/3],[2,1,4]], dtype=float)\n",
    "b=np.array([8,1,11], dtype=float)\n",
    "Matriz_escalonada, intercambios =eliminacionGaussiana(A,b)\n",
    "soluciones = sustitucionAtras(Matriz_escalonada)"
   ]
  },
  {
   "cell_type": "markdown",
   "metadata": {},
   "source": [
    "##### Literal b"
   ]
  },
  {
   "cell_type": "code",
   "execution_count": null,
   "metadata": {},
   "outputs": [],
   "source": [
    "A=np.array([[4,2,-1],[1/9,1/9,-1/3],[1,4,2]], dtype=float)\n",
    "b=np.array([-5,-1,9], dtype=float)\n",
    "Matriz_escalonada, intercambios =eliminacionGaussiana(A,b)\n",
    "soluciones = sustitucionAtras(Matriz_escalonada)"
   ]
  },
  {
   "cell_type": "markdown",
   "metadata": {},
   "source": [
    "### EJERCICIO 3"
   ]
  },
  {
   "cell_type": "markdown",
   "metadata": {},
   "source": [
    "#### Literal a"
   ]
  },
  {
   "cell_type": "code",
   "execution_count": null,
   "metadata": {},
   "outputs": [],
   "source": [
    "A=np.array([[1,-1,3],[3,-3,1],[1,1,0]], dtype=float)\n",
    "b=np.array([2,-1,3], dtype=float)\n",
    "Matriz_escalonada, intercambios =eliminacionGaussiana(A,b)\n",
    "soluciones = sustitucionAtras(Matriz_escalonada)"
   ]
  },
  {
   "cell_type": "markdown",
   "metadata": {},
   "source": [
    "#### Literal b"
   ]
  },
  {
   "cell_type": "code",
   "execution_count": null,
   "metadata": {},
   "outputs": [],
   "source": [
    "A=np.array([[2,-1.5,3],[-1,0,2],[4,-4.5,5]], dtype=float)\n",
    "b=np.array([1,3,1], dtype=float)\n",
    "Matriz_escalonada, intercambios =eliminacionGaussiana(A,b)\n",
    "soluciones = sustitucionAtras(Matriz_escalonada)"
   ]
  },
  {
   "cell_type": "markdown",
   "metadata": {},
   "source": [
    "#### Literal c"
   ]
  },
  {
   "cell_type": "code",
   "execution_count": null,
   "metadata": {},
   "outputs": [],
   "source": [
    "A=np.array([[2,0,0,0],[1,1.5,0,0],[0,-3,0.5,0],[2,-2,1,1]], dtype=float)\n",
    "b=np.array([3,4.5,-6.6,0.8], dtype=float)\n",
    "Matriz_escalonada, intercambios =eliminacionGaussiana(A,b)\n",
    "soluciones = sustitucionAtras(Matriz_escalonada)"
   ]
  },
  {
   "cell_type": "markdown",
   "metadata": {},
   "source": [
    "#### Literal d"
   ]
  },
  {
   "cell_type": "code",
   "execution_count": null,
   "metadata": {},
   "outputs": [],
   "source": [
    "A=np.array([[1,1,0,1],[2,1,-1,1],[4,-1,-2,2],[3,-1,-1,2]], dtype=float)\n",
    "b=np.array([2,1,0,3], dtype=float)\n",
    "Matriz_escalonada, intercambios =eliminacionGaussiana(A,b)"
   ]
  },
  {
   "cell_type": "markdown",
   "metadata": {},
   "source": [
    "### Ejercicio 4"
   ]
  },
  {
   "cell_type": "markdown",
   "metadata": {},
   "source": [
    "#### Literal a"
   ]
  },
  {
   "cell_type": "code",
   "execution_count": null,
   "metadata": {},
   "outputs": [],
   "source": [
    "A=np.array([[1/4,1/5,1/6],[1/3,1/4,1/5],[1/2,1,2]], dtype=float)\n",
    "b=np.array([9,8,8], dtype=float)\n",
    "Matriz_escalonada, intercambios =eliminacionGaussiana(A,b)\n",
    "soluciones = sustitucionAtras(Matriz_escalonada)"
   ]
  },
  {
   "cell_type": "markdown",
   "metadata": {},
   "source": [
    "#### Literal b"
   ]
  },
  {
   "cell_type": "code",
   "execution_count": null,
   "metadata": {},
   "outputs": [],
   "source": [
    "A=np.array([[3.333,15920,-10.333],[2.222,16.71,9.612],[1.5611,5.1791,1.6852]], dtype=float)\n",
    "b=np.array([15913,28.544,8.4254], dtype=float)\n",
    "Matriz_escalonada, intercambios =eliminacionGaussiana(A,b)\n",
    "soluciones = sustitucionAtras(Matriz_escalonada)"
   ]
  },
  {
   "cell_type": "markdown",
   "metadata": {},
   "source": [
    "#### Literal c"
   ]
  },
  {
   "cell_type": "code",
   "execution_count": null,
   "metadata": {},
   "outputs": [],
   "source": [
    "A=np.array([[1,1/2,1/3,1/4],[1/2,1/3,1/4,1/5],[1/3,1/4,1/5,1/6],[1/4,1/5,1/6,1/7]], dtype=float)\n",
    "b=np.array([1/6,1/7,1/8,1/9], dtype=float)\n",
    "Matriz_escalonada, intercambios =eliminacionGaussiana(A,b)\n",
    "soluciones = sustitucionAtras(Matriz_escalonada)"
   ]
  },
  {
   "cell_type": "markdown",
   "metadata": {},
   "source": [
    "#### Literal d"
   ]
  },
  {
   "cell_type": "code",
   "execution_count": null,
   "metadata": {},
   "outputs": [],
   "source": [
    "A=np.array([[2,1,-1,1,-3],[1,0,2,-1,1],[0,-2,-1,1,-1],[3,1,-4,0,5],[1,-1,-1,-1,1]], dtype=float)\n",
    "b=np.array([7,2,-5,6,-3], dtype=float)\n",
    "Matriz_escalonada, intercambios =eliminacionGaussiana(A,b)\n",
    "soluciones = sustitucionAtras(Matriz_escalonada)"
   ]
  },
  {
   "cell_type": "markdown",
   "metadata": {},
   "source": [
    "### Ejercicio 6"
   ]
  },
  {
   "cell_type": "markdown",
   "metadata": {},
   "source": [
    "#### Literal a"
   ]
  },
  {
   "cell_type": "markdown",
   "metadata": {},
   "source": [
    "Para saber si existe suficiente alimento para el consumo promedio diario, debemos multiplicar la matriz A por el número de especies x"
   ]
  },
  {
   "cell_type": "code",
   "execution_count": null,
   "metadata": {},
   "outputs": [],
   "source": [
    "A = np.array([[1, 2, 0, 3], [1, 0, 2, 2],[0,0,1,1]])\n",
    "X = np.array([1000, 500,350,400])\n",
    "\n",
    "# Multiplicación de matrices\n",
    "resultado = np.dot(A, X) \n",
    "\n",
    "print(\"Resultado:\")\n",
    "print(resultado)"
   ]
  },
  {
   "cell_type": "markdown",
   "metadata": {},
   "source": [
    "#### Literal B"
   ]
  },
  {
   "cell_type": "code",
   "execution_count": null,
   "metadata": {},
   "outputs": [],
   "source": [
    "A = np.array([[1,2,0,3],[1,0,2,2],[0,0,1,1]])\n",
    "x = np.array([1005,511,355,491])\n",
    "b_obtenido = np.dot(A,x)\n",
    "print(\"El vector de consumo promedio diario es de:\",b_obtenido)"
   ]
  },
  {
   "cell_type": "markdown",
   "metadata": {},
   "source": [
    "Por tanto, para que el alimento alcancé para todas las especies estás pueden crecer de la siguiente manera:\n",
    "- Especie 1: Crece máximo en 5 individuos.\n",
    "- Especie 2: Crece máximo en 11 individios.\n",
    "- Especie 3: Crece máximo en 5 individuos.\n",
    "- Especie 4: Crece máximo en 91 individuos.\n"
   ]
  },
  {
   "cell_type": "markdown",
   "metadata": {},
   "source": [
    "#### Literal c"
   ]
  },
  {
   "cell_type": "code",
   "execution_count": null,
   "metadata": {},
   "outputs": [],
   "source": [
    "A = np.array([[1,2,0,3],[1,0,2,2],[0,0,1,1]])\n",
    "x = np.array([0,1000,400,500])\n",
    "b_obtenido = np.dot(A,x)\n",
    "print(\"El vector de consumo promedio diario es de:\",b_obtenido)"
   ]
  },
  {
   "cell_type": "markdown",
   "metadata": {},
   "source": [
    "Por tanto, si la especie 1 se extingue, las otras especies tener los siguientes incrementos de su población:\n",
    "- Especie 2: Se incrementa en 500.\n",
    "- Especie 3: Se incrementa en 50.\n",
    "- Especie 4: Se incrementa en 100"
   ]
  },
  {
   "cell_type": "markdown",
   "metadata": {},
   "source": [
    "#### Literal d"
   ]
  },
  {
   "cell_type": "code",
   "execution_count": null,
   "metadata": {},
   "outputs": [],
   "source": [
    "A = np.array([[1,2,0,3],[1,0,2,2],[0,0,1,1]])\n",
    "x = np.array([1080,0,380,430])\n",
    "b_obtenido = np.dot(A,x)\n",
    "print(\"El vector de consumo promedio diario es de:\",b_obtenido)"
   ]
  },
  {
   "cell_type": "markdown",
   "metadata": {},
   "source": [
    "### Ejercicio 7"
   ]
  },
  {
   "cell_type": "markdown",
   "metadata": {},
   "source": [
    "#### Literal a"
   ]
  },
  {
   "cell_type": "code",
   "execution_count": null,
   "metadata": {},
   "outputs": [],
   "source": [
    "print(\"Literal a:\\n\")\n",
    "A = np.array([[1/4,1/5,1/6,9],[1/3,1/4,1/5,8],[1/2,1,2,8]])\n",
    "sol_a = GaussJordan(A)\n",
    "print(\"\\nLa solución es:\",sol_a)"
   ]
  },
  {
   "cell_type": "markdown",
   "metadata": {},
   "source": [
    "#### Literal b"
   ]
  },
  {
   "cell_type": "code",
   "execution_count": null,
   "metadata": {},
   "outputs": [],
   "source": [
    "print(\"\\nLiteral b:\\n\")\n",
    "B = np.array([[3.333,15920,-10.333,15913],[2.222,16.71,9.612,28.544],[1.5611,5.1791,1.6852,8.4254]])\n",
    "sol_b = GaussJordan(B)\n",
    "print(\"\\nLa solución es:\",sol_b)"
   ]
  },
  {
   "cell_type": "markdown",
   "metadata": {},
   "source": [
    "#### Literal c"
   ]
  },
  {
   "cell_type": "code",
   "execution_count": null,
   "metadata": {},
   "outputs": [],
   "source": [
    "print(\"\\nLiteral c:\\n\")\n",
    "C = np.array([[1,1/2,1/3,1/4,1/6],[1/2,1/3,1/4,1/5,1/7],[1/3,1/4,1/5,1/6,1/8],[1/4,1/5,1/6,1/7,1/9]])\n",
    "sol_c = GaussJordan(C)\n",
    "print(\"\\nLa solución es:\",sol_c)\n"
   ]
  },
  {
   "cell_type": "markdown",
   "metadata": {},
   "source": [
    "#### Literal d"
   ]
  },
  {
   "cell_type": "code",
   "execution_count": null,
   "metadata": {},
   "outputs": [],
   "source": [
    "print(\"\\nLiteral d:\\n\")\n",
    "D = np.array([[2,1,-1,1,-3,7],[1,0,2,-1,1,2],[0,-2,-1,1,-1,-5],[3,1,-4,0,5,6],[1,-1,-1,-1,1,-3]])\n",
    "sol_d = GaussJordan(D)\n",
    "print(\"\\nLa solución es:\",sol_d)"
   ]
  },
  {
   "cell_type": "markdown",
   "metadata": {},
   "source": [
    "Link: https://github.com/KennethJYS/Eliminaci-n-gaussiana-vs-Gauss-Jordan"
   ]
  }
 ],
 "metadata": {
  "kernelspec": {
   "display_name": "Python 3",
   "language": "python",
   "name": "python3"
  },
  "language_info": {
   "codemirror_mode": {
    "name": "ipython",
    "version": 3
   },
   "file_extension": ".py",
   "mimetype": "text/x-python",
   "name": "python",
   "nbconvert_exporter": "python",
   "pygments_lexer": "ipython3",
   "version": "3.13.0"
  }
 },
 "nbformat": 4,
 "nbformat_minor": 2
}
